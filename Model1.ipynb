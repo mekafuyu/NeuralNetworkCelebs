{
 "cells": [
  {
   "cell_type": "code",
   "execution_count": 6,
   "metadata": {},
   "outputs": [
    {
     "name": "stdout",
     "output_type": "stream",
     "text": [
      "Note: you may need to restart the kernel to use updated packages.\n",
      "Note: you may need to restart the kernel to use updated packages.\n"
     ]
    }
   ],
   "source": [
    "%pip install tensorflow -q\n",
    "%pip install pandas -q"
   ]
  },
  {
   "cell_type": "code",
   "execution_count": 1,
   "metadata": {},
   "outputs": [
    {
     "name": "stdout",
     "output_type": "stream",
     "text": [
      "WARNING:tensorflow:From C:\\Users\\disrct\\AppData\\Roaming\\Python\\Python311\\site-packages\\keras\\src\\losses.py:2976: The name tf.losses.sparse_softmax_cross_entropy is deprecated. Please use tf.compat.v1.losses.sparse_softmax_cross_entropy instead.\n",
      "\n"
     ]
    }
   ],
   "source": [
    "import os\n",
    "from tensorflow.keras import models, layers, activations,\\\n",
    "optimizers, utils, losses, initializers, metrics, callbacks"
   ]
  },
  {
   "cell_type": "code",
   "execution_count": 19,
   "metadata": {},
   "outputs": [
    {
     "name": "stdout",
     "output_type": "stream",
     "text": [
      "17\n"
     ]
    }
   ],
   "source": [
    "epochs = 1000\n",
    "batch_size = 64\n",
    "patience = 32\n",
    "learning_rate = 1e-3\n",
    "model_path = 'checkpoints/model.keras'\n",
    "train_path = 'train'\n",
    "exists = os.path.exists(model_path)\n",
    "items = len(os.listdir(train_path))\n",
    "classes = 1 if items < 3 else items\n",
    "print(classes)"
   ]
  },
  {
   "cell_type": "code",
   "execution_count": 22,
   "metadata": {},
   "outputs": [
    {
     "name": "stdout",
     "output_type": "stream",
     "text": [
      "Found 1800 files belonging to 17 classes.\n",
      "Using 1440 files for training.\n",
      "Found 1800 files belonging to 17 classes.\n",
      "Using 360 files for validation.\n"
     ]
    }
   ],
   "source": [
    "# Carrega modelo se já existir um checkpoint, caso contrário, o cria.\n",
    "model = models.load_model(model_path) \\\n",
    "if exists \\\n",
    "else models.Sequential([\n",
    "  layers.Resizing(64, 64),\n",
    "  layers.Rescaling(1.0/255),\n",
    "  layers.RandomRotation((-0.1, 0.1)),\n",
    "  layers.RandomFlip(),\n",
    "  layers.BatchNormalization(),\n",
    "  \n",
    "  layers.Conv2D(64, (5, 5),\n",
    "    activation = 'relu',\n",
    "    kernel_initializer = initializers.RandomUniform()\n",
    "  ),\n",
    "  # layers.MaxPooling2D((3, 3)),\n",
    "  \n",
    "  layers.Conv2D(16, (3, 3),\n",
    "    activation = 'relu',\n",
    "    kernel_initializer = initializers.RandomUniform()\n",
    "  ),\n",
    "  layers.MaxPooling2D((3, 3)),\n",
    "  \n",
    "  layers.Flatten(),\n",
    "  layers.Dropout(0.5),\n",
    "  layers.Dense(256,\n",
    "    activation = 'relu',\n",
    "    kernel_initializer = initializers.RandomUniform()\n",
    "  ),\n",
    "  \n",
    "  layers.Dense(16,\n",
    "    activation = 'relu',\n",
    "    kernel_initializer = initializers.RandomUniform()\n",
    "  ),\n",
    "  \n",
    "  layers.Dense(16,\n",
    "    activation = 'relu',\n",
    "    kernel_initializer = initializers.RandomUniform()\n",
    "  ),\n",
    "  \n",
    "  layers.Dense(16,\n",
    "    activation = 'relu',\n",
    "    kernel_initializer = initializers.RandomUniform()\n",
    "  ),\n",
    "  \n",
    "  layers.Dense(classes,\n",
    "    activation = 'sigmoid',\n",
    "    kernel_initializer = initializers.RandomUniform()\n",
    "  )\n",
    "])\n",
    "\n",
    "if exists:\n",
    "  model.summary()\n",
    "else:\n",
    "  model.compile(\n",
    "    optimizer = optimizers.Adam(\n",
    "      learning_rate = learning_rate\n",
    "    ),\n",
    "    loss = losses.SparseCategoricalCrossentropy(),\n",
    "    metrics = [ 'accuracy' ]\n",
    "  )\n",
    "  \n",
    "train = utils.image_dataset_from_directory(\n",
    "  train_path,\n",
    "  validation_split= 0.2,\n",
    "  subset= \"training\",\n",
    "  seed= 123,\n",
    "  shuffle= True,\n",
    "  image_size= (224, 224),\n",
    "  batch_size= batch_size\n",
    ")\n",
    "\n",
    "test = utils.image_dataset_from_directory(\n",
    "  train_path,\n",
    "  validation_split= 0.2,\n",
    "  subset= \"validation\",\n",
    "  seed= 123,\n",
    "  shuffle= True,\n",
    "  image_size= (224, 224),\n",
    "  batch_size= batch_size\n",
    ")"
   ]
  },
  {
   "cell_type": "code",
   "execution_count": 23,
   "metadata": {},
   "outputs": [
    {
     "name": "stdout",
     "output_type": "stream",
     "text": [
      "Epoch 1/1000\n"
     ]
    },
    {
     "name": "stdout",
     "output_type": "stream",
     "text": [
      "23/23 [==============================] - 4s 119ms/step - loss: 2.8322 - accuracy: 0.0604 - val_loss: 2.8272 - val_accuracy: 0.0528 - lr: 0.0010\n",
      "Epoch 2/1000\n",
      "23/23 [==============================] - 3s 114ms/step - loss: 2.7917 - accuracy: 0.1056 - val_loss: 2.8153 - val_accuracy: 0.1167 - lr: 9.6466e-04\n",
      "Epoch 3/1000\n",
      "23/23 [==============================] - 3s 110ms/step - loss: 2.7275 - accuracy: 0.1278 - val_loss: 2.8203 - val_accuracy: 0.1222 - lr: 9.3057e-04\n",
      "Epoch 4/1000\n",
      "23/23 [==============================] - 3s 109ms/step - loss: 2.6809 - accuracy: 0.1396 - val_loss: 2.7635 - val_accuracy: 0.1222 - lr: 8.9769e-04\n",
      "Epoch 5/1000\n",
      "23/23 [==============================] - 3s 109ms/step - loss: 2.6373 - accuracy: 0.1576 - val_loss: 2.7343 - val_accuracy: 0.1333 - lr: 8.6596e-04\n",
      "Epoch 6/1000\n",
      "23/23 [==============================] - 3s 111ms/step - loss: 2.5805 - accuracy: 0.1465 - val_loss: 2.6562 - val_accuracy: 0.1417 - lr: 8.3536e-04\n",
      "Epoch 7/1000\n",
      "23/23 [==============================] - 3s 109ms/step - loss: 2.5487 - accuracy: 0.1639 - val_loss: 2.6074 - val_accuracy: 0.1444 - lr: 8.0584e-04\n",
      "Epoch 8/1000\n",
      "23/23 [==============================] - 3s 109ms/step - loss: 2.5263 - accuracy: 0.1646 - val_loss: 2.6141 - val_accuracy: 0.1194 - lr: 7.7737e-04\n",
      "Epoch 9/1000\n",
      "23/23 [==============================] - 3s 113ms/step - loss: 2.4753 - accuracy: 0.1931 - val_loss: 2.5280 - val_accuracy: 0.2056 - lr: 7.4989e-04\n",
      "Epoch 10/1000\n",
      "23/23 [==============================] - 3s 104ms/step - loss: 2.4773 - accuracy: 0.1819 - val_loss: 2.5291 - val_accuracy: 0.2167 - lr: 7.2339e-04\n",
      "Epoch 11/1000\n",
      "23/23 [==============================] - 3s 108ms/step - loss: 2.4635 - accuracy: 0.1882 - val_loss: 2.4758 - val_accuracy: 0.1833 - lr: 6.9783e-04\n",
      "Epoch 12/1000\n",
      "23/23 [==============================] - 3s 117ms/step - loss: 2.4562 - accuracy: 0.1868 - val_loss: 2.4237 - val_accuracy: 0.2111 - lr: 6.7317e-04\n",
      "Epoch 13/1000\n",
      "23/23 [==============================] - 3s 123ms/step - loss: 2.4141 - accuracy: 0.1951 - val_loss: 2.3753 - val_accuracy: 0.1917 - lr: 6.4938e-04\n",
      "Epoch 14/1000\n",
      "23/23 [==============================] - 3s 121ms/step - loss: 2.3772 - accuracy: 0.2056 - val_loss: 2.3321 - val_accuracy: 0.2306 - lr: 6.2643e-04\n",
      "Epoch 15/1000\n",
      "23/23 [==============================] - 3s 125ms/step - loss: 2.3821 - accuracy: 0.2111 - val_loss: 2.3264 - val_accuracy: 0.1972 - lr: 6.0430e-04\n",
      "Epoch 16/1000\n",
      "23/23 [==============================] - 3s 125ms/step - loss: 2.3236 - accuracy: 0.2188 - val_loss: 2.2872 - val_accuracy: 0.2194 - lr: 5.8294e-04\n",
      "Epoch 17/1000\n",
      "23/23 [==============================] - 3s 120ms/step - loss: 2.2970 - accuracy: 0.2306 - val_loss: 2.2386 - val_accuracy: 0.2194 - lr: 5.6234e-04\n",
      "Epoch 18/1000\n",
      "23/23 [==============================] - 3s 124ms/step - loss: 2.2716 - accuracy: 0.2264 - val_loss: 2.1989 - val_accuracy: 0.2250 - lr: 5.4247e-04\n",
      "Epoch 19/1000\n",
      "23/23 [==============================] - 3s 119ms/step - loss: 2.2742 - accuracy: 0.2222 - val_loss: 2.1951 - val_accuracy: 0.2167 - lr: 5.2330e-04\n",
      "Epoch 20/1000\n",
      "23/23 [==============================] - 3s 122ms/step - loss: 2.2355 - accuracy: 0.2264 - val_loss: 2.1585 - val_accuracy: 0.2222 - lr: 5.0481e-04\n",
      "Epoch 21/1000\n",
      "23/23 [==============================] - 3s 121ms/step - loss: 2.2357 - accuracy: 0.2250 - val_loss: 2.1475 - val_accuracy: 0.2056 - lr: 4.8697e-04\n",
      "Epoch 22/1000\n",
      "23/23 [==============================] - 3s 127ms/step - loss: 2.2262 - accuracy: 0.2361 - val_loss: 2.1292 - val_accuracy: 0.2444 - lr: 4.6976e-04\n",
      "Epoch 23/1000\n",
      "23/23 [==============================] - 3s 123ms/step - loss: 2.1971 - accuracy: 0.2389 - val_loss: 2.1267 - val_accuracy: 0.2444 - lr: 4.5316e-04\n",
      "Epoch 24/1000\n",
      "23/23 [==============================] - 3s 118ms/step - loss: 2.1978 - accuracy: 0.2361 - val_loss: 2.1170 - val_accuracy: 0.2472 - lr: 4.3714e-04\n",
      "Epoch 25/1000\n",
      "23/23 [==============================] - 3s 123ms/step - loss: 2.1831 - accuracy: 0.2375 - val_loss: 2.0934 - val_accuracy: 0.2611 - lr: 4.2170e-04\n",
      "Epoch 26/1000\n",
      "23/23 [==============================] - 3s 124ms/step - loss: 2.1758 - accuracy: 0.2500 - val_loss: 2.0568 - val_accuracy: 0.2611 - lr: 4.0679e-04\n",
      "Epoch 27/1000\n",
      "23/23 [==============================] - 3s 124ms/step - loss: 2.1311 - accuracy: 0.2590 - val_loss: 2.0408 - val_accuracy: 0.2528 - lr: 3.9242e-04\n",
      "Epoch 28/1000\n",
      "23/23 [==============================] - 3s 132ms/step - loss: 2.1256 - accuracy: 0.2556 - val_loss: 2.0729 - val_accuracy: 0.2556 - lr: 3.7855e-04\n",
      "Epoch 29/1000\n",
      "23/23 [==============================] - 3s 124ms/step - loss: 2.1358 - accuracy: 0.2549 - val_loss: 2.0509 - val_accuracy: 0.2694 - lr: 3.6517e-04\n",
      "Epoch 30/1000\n",
      "23/23 [==============================] - 3s 122ms/step - loss: 2.1168 - accuracy: 0.2493 - val_loss: 2.0114 - val_accuracy: 0.2889 - lr: 3.5227e-04\n",
      "Epoch 31/1000\n",
      "23/23 [==============================] - 3s 122ms/step - loss: 2.1146 - accuracy: 0.2604 - val_loss: 1.9902 - val_accuracy: 0.2750 - lr: 3.3982e-04\n",
      "Epoch 32/1000\n",
      "23/23 [==============================] - 3s 123ms/step - loss: 2.0853 - accuracy: 0.2646 - val_loss: 2.0046 - val_accuracy: 0.2889 - lr: 3.2781e-04\n",
      "Epoch 33/1000\n",
      "23/23 [==============================] - 3s 127ms/step - loss: 2.0763 - accuracy: 0.2750 - val_loss: 1.9885 - val_accuracy: 0.3167 - lr: 3.1623e-04\n",
      "Epoch 34/1000\n",
      "23/23 [==============================] - 3s 126ms/step - loss: 2.0937 - accuracy: 0.2694 - val_loss: 2.0151 - val_accuracy: 0.2722 - lr: 3.0505e-04\n",
      "Epoch 35/1000\n",
      "23/23 [==============================] - 3s 126ms/step - loss: 2.0918 - accuracy: 0.2750 - val_loss: 2.0132 - val_accuracy: 0.2806 - lr: 2.9427e-04\n",
      "Epoch 36/1000\n",
      "23/23 [==============================] - 3s 119ms/step - loss: 2.0887 - accuracy: 0.2681 - val_loss: 2.0260 - val_accuracy: 0.3000 - lr: 2.8387e-04\n",
      "Epoch 37/1000\n",
      "23/23 [==============================] - 3s 123ms/step - loss: 2.0580 - accuracy: 0.2806 - val_loss: 1.9793 - val_accuracy: 0.2917 - lr: 2.7384e-04\n",
      "Epoch 38/1000\n",
      "23/23 [==============================] - 3s 120ms/step - loss: 2.0546 - accuracy: 0.2785 - val_loss: 1.9859 - val_accuracy: 0.3083 - lr: 2.6416e-04\n",
      "Epoch 39/1000\n",
      "23/23 [==============================] - 3s 123ms/step - loss: 2.0451 - accuracy: 0.2896 - val_loss: 1.9656 - val_accuracy: 0.3056 - lr: 2.5483e-04\n",
      "Epoch 40/1000\n",
      "23/23 [==============================] - 3s 121ms/step - loss: 2.0512 - accuracy: 0.2958 - val_loss: 1.9598 - val_accuracy: 0.3028 - lr: 2.4582e-04\n",
      "Epoch 41/1000\n",
      "23/23 [==============================] - 3s 130ms/step - loss: 2.0211 - accuracy: 0.2882 - val_loss: 1.9858 - val_accuracy: 0.2944 - lr: 2.3714e-04\n",
      "Epoch 42/1000\n",
      "23/23 [==============================] - 3s 121ms/step - loss: 2.0343 - accuracy: 0.2917 - val_loss: 1.9474 - val_accuracy: 0.3056 - lr: 2.2876e-04\n",
      "Epoch 43/1000\n",
      "23/23 [==============================] - 3s 119ms/step - loss: 2.0450 - accuracy: 0.2833 - val_loss: 1.9581 - val_accuracy: 0.3167 - lr: 2.2067e-04\n",
      "Epoch 44/1000\n",
      "23/23 [==============================] - 3s 120ms/step - loss: 2.0331 - accuracy: 0.2965 - val_loss: 1.9769 - val_accuracy: 0.2917 - lr: 2.1288e-04\n",
      "Epoch 45/1000\n",
      "23/23 [==============================] - 3s 119ms/step - loss: 2.0277 - accuracy: 0.2924 - val_loss: 1.9483 - val_accuracy: 0.3139 - lr: 2.0535e-04\n",
      "Epoch 46/1000\n",
      "23/23 [==============================] - 3s 123ms/step - loss: 2.0049 - accuracy: 0.3083 - val_loss: 1.9349 - val_accuracy: 0.3306 - lr: 1.9810e-04\n",
      "Epoch 47/1000\n",
      "23/23 [==============================] - 3s 125ms/step - loss: 2.0230 - accuracy: 0.2924 - val_loss: 1.9277 - val_accuracy: 0.3361 - lr: 1.9110e-04\n",
      "Epoch 48/1000\n",
      "23/23 [==============================] - 3s 130ms/step - loss: 2.0206 - accuracy: 0.2854 - val_loss: 1.9304 - val_accuracy: 0.3250 - lr: 1.8434e-04\n",
      "Epoch 49/1000\n",
      "23/23 [==============================] - 3s 123ms/step - loss: 2.0058 - accuracy: 0.2965 - val_loss: 1.9302 - val_accuracy: 0.3056 - lr: 1.7783e-04\n",
      "Epoch 50/1000\n",
      "23/23 [==============================] - 3s 127ms/step - loss: 1.9970 - accuracy: 0.3000 - val_loss: 1.9196 - val_accuracy: 0.3139 - lr: 1.7154e-04\n",
      "Epoch 51/1000\n",
      "16/23 [===================>..........] - ETA: 0s - loss: 1.9942 - accuracy: 0.3252"
     ]
    },
    {
     "ename": "KeyboardInterrupt",
     "evalue": "",
     "output_type": "error",
     "traceback": [
      "\u001b[1;31m---------------------------------------------------------------------------\u001b[0m",
      "\u001b[1;31mKeyboardInterrupt\u001b[0m                         Traceback (most recent call last)",
      "Cell \u001b[1;32mIn[23], line 1\u001b[0m\n\u001b[1;32m----> 1\u001b[0m \u001b[43mmodel\u001b[49m\u001b[38;5;241;43m.\u001b[39;49m\u001b[43mfit\u001b[49m\u001b[43m(\u001b[49m\u001b[43mtrain\u001b[49m\u001b[43m,\u001b[49m\n\u001b[0;32m      2\u001b[0m \u001b[43m  \u001b[49m\u001b[43mepochs\u001b[49m\u001b[43m \u001b[49m\u001b[38;5;241;43m=\u001b[39;49m\u001b[43m \u001b[49m\u001b[43mepochs\u001b[49m\u001b[43m,\u001b[49m\n\u001b[0;32m      3\u001b[0m \u001b[43m  \u001b[49m\u001b[43mvalidation_data\u001b[49m\u001b[43m \u001b[49m\u001b[38;5;241;43m=\u001b[39;49m\u001b[43m \u001b[49m\u001b[43mtest\u001b[49m\u001b[43m,\u001b[49m\n\u001b[0;32m      4\u001b[0m \u001b[43m  \u001b[49m\u001b[43mcallbacks\u001b[49m\u001b[38;5;241;43m=\u001b[39;49m\u001b[43m \u001b[49m\u001b[43m[\u001b[49m\n\u001b[0;32m      5\u001b[0m \u001b[43m    \u001b[49m\u001b[43mcallbacks\u001b[49m\u001b[38;5;241;43m.\u001b[39;49m\u001b[43mEarlyStopping\u001b[49m\u001b[43m(\u001b[49m\n\u001b[0;32m      6\u001b[0m \u001b[43m      \u001b[49m\u001b[43mmonitor\u001b[49m\u001b[43m \u001b[49m\u001b[38;5;241;43m=\u001b[39;49m\u001b[43m \u001b[49m\u001b[38;5;124;43m'\u001b[39;49m\u001b[38;5;124;43mval_loss\u001b[39;49m\u001b[38;5;124;43m'\u001b[39;49m\u001b[43m,\u001b[49m\n\u001b[0;32m      7\u001b[0m \u001b[43m      \u001b[49m\u001b[43mpatience\u001b[49m\u001b[43m \u001b[49m\u001b[38;5;241;43m=\u001b[39;49m\u001b[43m \u001b[49m\u001b[43mpatience\u001b[49m\u001b[43m,\u001b[49m\n\u001b[0;32m      8\u001b[0m \u001b[43m      \u001b[49m\u001b[43mverbose\u001b[49m\u001b[43m \u001b[49m\u001b[38;5;241;43m=\u001b[39;49m\u001b[43m \u001b[49m\u001b[38;5;241;43m1\u001b[39;49m\n\u001b[0;32m      9\u001b[0m \u001b[43m    \u001b[49m\u001b[43m)\u001b[49m\u001b[43m,\u001b[49m\n\u001b[0;32m     10\u001b[0m \u001b[43m    \u001b[49m\u001b[43mcallbacks\u001b[49m\u001b[38;5;241;43m.\u001b[39;49m\u001b[43mModelCheckpoint\u001b[49m\u001b[43m(\u001b[49m\n\u001b[0;32m     11\u001b[0m \u001b[43m      \u001b[49m\u001b[43mfilepath\u001b[49m\u001b[43m \u001b[49m\u001b[38;5;241;43m=\u001b[39;49m\u001b[43m \u001b[49m\u001b[43mmodel_path\u001b[49m\u001b[43m,\u001b[49m\n\u001b[0;32m     12\u001b[0m \u001b[43m      \u001b[49m\u001b[43msave_weights_only\u001b[49m\u001b[43m \u001b[49m\u001b[38;5;241;43m=\u001b[39;49m\u001b[43m \u001b[49m\u001b[38;5;28;43;01mFalse\u001b[39;49;00m\u001b[43m,\u001b[49m\n\u001b[0;32m     13\u001b[0m \u001b[43m      \u001b[49m\u001b[43mmonitor\u001b[49m\u001b[43m \u001b[49m\u001b[38;5;241;43m=\u001b[39;49m\u001b[43m \u001b[49m\u001b[38;5;124;43m'\u001b[39;49m\u001b[38;5;124;43mloss\u001b[39;49m\u001b[38;5;124;43m'\u001b[39;49m\u001b[43m,\u001b[49m\n\u001b[0;32m     14\u001b[0m \u001b[43m      \u001b[49m\u001b[43mmode\u001b[49m\u001b[43m \u001b[49m\u001b[38;5;241;43m=\u001b[39;49m\u001b[43m \u001b[49m\u001b[38;5;124;43m'\u001b[39;49m\u001b[38;5;124;43mmin\u001b[39;49m\u001b[38;5;124;43m'\u001b[39;49m\u001b[43m,\u001b[49m\n\u001b[0;32m     15\u001b[0m \u001b[43m      \u001b[49m\u001b[43msave_best_only\u001b[49m\u001b[43m \u001b[49m\u001b[38;5;241;43m=\u001b[39;49m\u001b[43m \u001b[49m\u001b[38;5;28;43;01mTrue\u001b[39;49;00m\n\u001b[0;32m     16\u001b[0m \u001b[43m    \u001b[49m\u001b[43m)\u001b[49m\u001b[43m,\u001b[49m\n\u001b[0;32m     17\u001b[0m \u001b[43m    \u001b[49m\u001b[43mcallbacks\u001b[49m\u001b[38;5;241;43m.\u001b[39;49m\u001b[43mLearningRateScheduler\u001b[49m\u001b[43m(\u001b[49m\n\u001b[0;32m     18\u001b[0m \u001b[43m      \u001b[49m\u001b[38;5;28;43;01mlambda\u001b[39;49;00m\u001b[43m \u001b[49m\u001b[43mepoch\u001b[49m\u001b[43m,\u001b[49m\u001b[43m \u001b[49m\u001b[43mlr\u001b[49m\u001b[43m:\u001b[49m\u001b[43m \u001b[49m\u001b[38;5;241;43m1e-3\u001b[39;49m\u001b[43m \u001b[49m\u001b[38;5;241;43m*\u001b[39;49m\u001b[43m \u001b[49m\u001b[38;5;241;43m10\u001b[39;49m\u001b[43m \u001b[49m\u001b[38;5;241;43m*\u001b[39;49m\u001b[38;5;241;43m*\u001b[39;49m\u001b[43m \u001b[49m\u001b[38;5;241;43m-\u001b[39;49m\u001b[43m(\u001b[49m\u001b[43mepoch\u001b[49m\u001b[43m \u001b[49m\u001b[38;5;241;43m/\u001b[39;49m\u001b[43m \u001b[49m\u001b[38;5;241;43m64\u001b[39;49m\u001b[43m)\u001b[49m\n\u001b[0;32m     19\u001b[0m \u001b[43m    \u001b[49m\u001b[43m)\u001b[49m\n\u001b[0;32m     20\u001b[0m \u001b[43m  \u001b[49m\u001b[43m]\u001b[49m\n\u001b[0;32m     21\u001b[0m \u001b[43m)\u001b[49m\n",
      "File \u001b[1;32m~\\AppData\\Roaming\\Python\\Python311\\site-packages\\keras\\src\\utils\\traceback_utils.py:65\u001b[0m, in \u001b[0;36mfilter_traceback.<locals>.error_handler\u001b[1;34m(*args, **kwargs)\u001b[0m\n\u001b[0;32m     63\u001b[0m filtered_tb \u001b[38;5;241m=\u001b[39m \u001b[38;5;28;01mNone\u001b[39;00m\n\u001b[0;32m     64\u001b[0m \u001b[38;5;28;01mtry\u001b[39;00m:\n\u001b[1;32m---> 65\u001b[0m     \u001b[38;5;28;01mreturn\u001b[39;00m \u001b[43mfn\u001b[49m\u001b[43m(\u001b[49m\u001b[38;5;241;43m*\u001b[39;49m\u001b[43margs\u001b[49m\u001b[43m,\u001b[49m\u001b[43m \u001b[49m\u001b[38;5;241;43m*\u001b[39;49m\u001b[38;5;241;43m*\u001b[39;49m\u001b[43mkwargs\u001b[49m\u001b[43m)\u001b[49m\n\u001b[0;32m     66\u001b[0m \u001b[38;5;28;01mexcept\u001b[39;00m \u001b[38;5;167;01mException\u001b[39;00m \u001b[38;5;28;01mas\u001b[39;00m e:\n\u001b[0;32m     67\u001b[0m     filtered_tb \u001b[38;5;241m=\u001b[39m _process_traceback_frames(e\u001b[38;5;241m.\u001b[39m__traceback__)\n",
      "File \u001b[1;32m~\\AppData\\Roaming\\Python\\Python311\\site-packages\\keras\\src\\engine\\training.py:1807\u001b[0m, in \u001b[0;36mModel.fit\u001b[1;34m(self, x, y, batch_size, epochs, verbose, callbacks, validation_split, validation_data, shuffle, class_weight, sample_weight, initial_epoch, steps_per_epoch, validation_steps, validation_batch_size, validation_freq, max_queue_size, workers, use_multiprocessing)\u001b[0m\n\u001b[0;32m   1799\u001b[0m \u001b[38;5;28;01mwith\u001b[39;00m tf\u001b[38;5;241m.\u001b[39mprofiler\u001b[38;5;241m.\u001b[39mexperimental\u001b[38;5;241m.\u001b[39mTrace(\n\u001b[0;32m   1800\u001b[0m     \u001b[38;5;124m\"\u001b[39m\u001b[38;5;124mtrain\u001b[39m\u001b[38;5;124m\"\u001b[39m,\n\u001b[0;32m   1801\u001b[0m     epoch_num\u001b[38;5;241m=\u001b[39mepoch,\n\u001b[1;32m   (...)\u001b[0m\n\u001b[0;32m   1804\u001b[0m     _r\u001b[38;5;241m=\u001b[39m\u001b[38;5;241m1\u001b[39m,\n\u001b[0;32m   1805\u001b[0m ):\n\u001b[0;32m   1806\u001b[0m     callbacks\u001b[38;5;241m.\u001b[39mon_train_batch_begin(step)\n\u001b[1;32m-> 1807\u001b[0m     tmp_logs \u001b[38;5;241m=\u001b[39m \u001b[38;5;28;43mself\u001b[39;49m\u001b[38;5;241;43m.\u001b[39;49m\u001b[43mtrain_function\u001b[49m\u001b[43m(\u001b[49m\u001b[43miterator\u001b[49m\u001b[43m)\u001b[49m\n\u001b[0;32m   1808\u001b[0m     \u001b[38;5;28;01mif\u001b[39;00m data_handler\u001b[38;5;241m.\u001b[39mshould_sync:\n\u001b[0;32m   1809\u001b[0m         context\u001b[38;5;241m.\u001b[39masync_wait()\n",
      "File \u001b[1;32m~\\AppData\\Roaming\\Python\\Python311\\site-packages\\tensorflow\\python\\util\\traceback_utils.py:150\u001b[0m, in \u001b[0;36mfilter_traceback.<locals>.error_handler\u001b[1;34m(*args, **kwargs)\u001b[0m\n\u001b[0;32m    148\u001b[0m filtered_tb \u001b[38;5;241m=\u001b[39m \u001b[38;5;28;01mNone\u001b[39;00m\n\u001b[0;32m    149\u001b[0m \u001b[38;5;28;01mtry\u001b[39;00m:\n\u001b[1;32m--> 150\u001b[0m   \u001b[38;5;28;01mreturn\u001b[39;00m \u001b[43mfn\u001b[49m\u001b[43m(\u001b[49m\u001b[38;5;241;43m*\u001b[39;49m\u001b[43margs\u001b[49m\u001b[43m,\u001b[49m\u001b[43m \u001b[49m\u001b[38;5;241;43m*\u001b[39;49m\u001b[38;5;241;43m*\u001b[39;49m\u001b[43mkwargs\u001b[49m\u001b[43m)\u001b[49m\n\u001b[0;32m    151\u001b[0m \u001b[38;5;28;01mexcept\u001b[39;00m \u001b[38;5;167;01mException\u001b[39;00m \u001b[38;5;28;01mas\u001b[39;00m e:\n\u001b[0;32m    152\u001b[0m   filtered_tb \u001b[38;5;241m=\u001b[39m _process_traceback_frames(e\u001b[38;5;241m.\u001b[39m__traceback__)\n",
      "File \u001b[1;32m~\\AppData\\Roaming\\Python\\Python311\\site-packages\\tensorflow\\python\\eager\\polymorphic_function\\polymorphic_function.py:832\u001b[0m, in \u001b[0;36mFunction.__call__\u001b[1;34m(self, *args, **kwds)\u001b[0m\n\u001b[0;32m    829\u001b[0m compiler \u001b[38;5;241m=\u001b[39m \u001b[38;5;124m\"\u001b[39m\u001b[38;5;124mxla\u001b[39m\u001b[38;5;124m\"\u001b[39m \u001b[38;5;28;01mif\u001b[39;00m \u001b[38;5;28mself\u001b[39m\u001b[38;5;241m.\u001b[39m_jit_compile \u001b[38;5;28;01melse\u001b[39;00m \u001b[38;5;124m\"\u001b[39m\u001b[38;5;124mnonXla\u001b[39m\u001b[38;5;124m\"\u001b[39m\n\u001b[0;32m    831\u001b[0m \u001b[38;5;28;01mwith\u001b[39;00m OptionalXlaContext(\u001b[38;5;28mself\u001b[39m\u001b[38;5;241m.\u001b[39m_jit_compile):\n\u001b[1;32m--> 832\u001b[0m   result \u001b[38;5;241m=\u001b[39m \u001b[38;5;28;43mself\u001b[39;49m\u001b[38;5;241;43m.\u001b[39;49m\u001b[43m_call\u001b[49m\u001b[43m(\u001b[49m\u001b[38;5;241;43m*\u001b[39;49m\u001b[43margs\u001b[49m\u001b[43m,\u001b[49m\u001b[43m \u001b[49m\u001b[38;5;241;43m*\u001b[39;49m\u001b[38;5;241;43m*\u001b[39;49m\u001b[43mkwds\u001b[49m\u001b[43m)\u001b[49m\n\u001b[0;32m    834\u001b[0m new_tracing_count \u001b[38;5;241m=\u001b[39m \u001b[38;5;28mself\u001b[39m\u001b[38;5;241m.\u001b[39mexperimental_get_tracing_count()\n\u001b[0;32m    835\u001b[0m without_tracing \u001b[38;5;241m=\u001b[39m (tracing_count \u001b[38;5;241m==\u001b[39m new_tracing_count)\n",
      "File \u001b[1;32m~\\AppData\\Roaming\\Python\\Python311\\site-packages\\tensorflow\\python\\eager\\polymorphic_function\\polymorphic_function.py:868\u001b[0m, in \u001b[0;36mFunction._call\u001b[1;34m(self, *args, **kwds)\u001b[0m\n\u001b[0;32m    865\u001b[0m   \u001b[38;5;28mself\u001b[39m\u001b[38;5;241m.\u001b[39m_lock\u001b[38;5;241m.\u001b[39mrelease()\n\u001b[0;32m    866\u001b[0m   \u001b[38;5;66;03m# In this case we have created variables on the first call, so we run the\u001b[39;00m\n\u001b[0;32m    867\u001b[0m   \u001b[38;5;66;03m# defunned version which is guaranteed to never create variables.\u001b[39;00m\n\u001b[1;32m--> 868\u001b[0m   \u001b[38;5;28;01mreturn\u001b[39;00m \u001b[43mtracing_compilation\u001b[49m\u001b[38;5;241;43m.\u001b[39;49m\u001b[43mcall_function\u001b[49m\u001b[43m(\u001b[49m\n\u001b[0;32m    869\u001b[0m \u001b[43m      \u001b[49m\u001b[43margs\u001b[49m\u001b[43m,\u001b[49m\u001b[43m \u001b[49m\u001b[43mkwds\u001b[49m\u001b[43m,\u001b[49m\u001b[43m \u001b[49m\u001b[38;5;28;43mself\u001b[39;49m\u001b[38;5;241;43m.\u001b[39;49m\u001b[43m_no_variable_creation_config\u001b[49m\n\u001b[0;32m    870\u001b[0m \u001b[43m  \u001b[49m\u001b[43m)\u001b[49m\n\u001b[0;32m    871\u001b[0m \u001b[38;5;28;01melif\u001b[39;00m \u001b[38;5;28mself\u001b[39m\u001b[38;5;241m.\u001b[39m_variable_creation_config \u001b[38;5;129;01mis\u001b[39;00m \u001b[38;5;129;01mnot\u001b[39;00m \u001b[38;5;28;01mNone\u001b[39;00m:\n\u001b[0;32m    872\u001b[0m   \u001b[38;5;66;03m# Release the lock early so that multiple threads can perform the call\u001b[39;00m\n\u001b[0;32m    873\u001b[0m   \u001b[38;5;66;03m# in parallel.\u001b[39;00m\n\u001b[0;32m    874\u001b[0m   \u001b[38;5;28mself\u001b[39m\u001b[38;5;241m.\u001b[39m_lock\u001b[38;5;241m.\u001b[39mrelease()\n",
      "File \u001b[1;32m~\\AppData\\Roaming\\Python\\Python311\\site-packages\\tensorflow\\python\\eager\\polymorphic_function\\tracing_compilation.py:139\u001b[0m, in \u001b[0;36mcall_function\u001b[1;34m(args, kwargs, tracing_options)\u001b[0m\n\u001b[0;32m    137\u001b[0m bound_args \u001b[38;5;241m=\u001b[39m function\u001b[38;5;241m.\u001b[39mfunction_type\u001b[38;5;241m.\u001b[39mbind(\u001b[38;5;241m*\u001b[39margs, \u001b[38;5;241m*\u001b[39m\u001b[38;5;241m*\u001b[39mkwargs)\n\u001b[0;32m    138\u001b[0m flat_inputs \u001b[38;5;241m=\u001b[39m function\u001b[38;5;241m.\u001b[39mfunction_type\u001b[38;5;241m.\u001b[39munpack_inputs(bound_args)\n\u001b[1;32m--> 139\u001b[0m \u001b[38;5;28;01mreturn\u001b[39;00m \u001b[43mfunction\u001b[49m\u001b[38;5;241;43m.\u001b[39;49m\u001b[43m_call_flat\u001b[49m\u001b[43m(\u001b[49m\u001b[43m  \u001b[49m\u001b[38;5;66;43;03m# pylint: disable=protected-access\u001b[39;49;00m\n\u001b[0;32m    140\u001b[0m \u001b[43m    \u001b[49m\u001b[43mflat_inputs\u001b[49m\u001b[43m,\u001b[49m\u001b[43m \u001b[49m\u001b[43mcaptured_inputs\u001b[49m\u001b[38;5;241;43m=\u001b[39;49m\u001b[43mfunction\u001b[49m\u001b[38;5;241;43m.\u001b[39;49m\u001b[43mcaptured_inputs\u001b[49m\n\u001b[0;32m    141\u001b[0m \u001b[43m\u001b[49m\u001b[43m)\u001b[49m\n",
      "File \u001b[1;32m~\\AppData\\Roaming\\Python\\Python311\\site-packages\\tensorflow\\python\\eager\\polymorphic_function\\concrete_function.py:1323\u001b[0m, in \u001b[0;36mConcreteFunction._call_flat\u001b[1;34m(self, tensor_inputs, captured_inputs)\u001b[0m\n\u001b[0;32m   1319\u001b[0m possible_gradient_type \u001b[38;5;241m=\u001b[39m gradients_util\u001b[38;5;241m.\u001b[39mPossibleTapeGradientTypes(args)\n\u001b[0;32m   1320\u001b[0m \u001b[38;5;28;01mif\u001b[39;00m (possible_gradient_type \u001b[38;5;241m==\u001b[39m gradients_util\u001b[38;5;241m.\u001b[39mPOSSIBLE_GRADIENT_TYPES_NONE\n\u001b[0;32m   1321\u001b[0m     \u001b[38;5;129;01mand\u001b[39;00m executing_eagerly):\n\u001b[0;32m   1322\u001b[0m   \u001b[38;5;66;03m# No tape is watching; skip to running the function.\u001b[39;00m\n\u001b[1;32m-> 1323\u001b[0m   \u001b[38;5;28;01mreturn\u001b[39;00m \u001b[38;5;28;43mself\u001b[39;49m\u001b[38;5;241;43m.\u001b[39;49m\u001b[43m_inference_function\u001b[49m\u001b[38;5;241;43m.\u001b[39;49m\u001b[43mcall_preflattened\u001b[49m\u001b[43m(\u001b[49m\u001b[43margs\u001b[49m\u001b[43m)\u001b[49m\n\u001b[0;32m   1324\u001b[0m forward_backward \u001b[38;5;241m=\u001b[39m \u001b[38;5;28mself\u001b[39m\u001b[38;5;241m.\u001b[39m_select_forward_and_backward_functions(\n\u001b[0;32m   1325\u001b[0m     args,\n\u001b[0;32m   1326\u001b[0m     possible_gradient_type,\n\u001b[0;32m   1327\u001b[0m     executing_eagerly)\n\u001b[0;32m   1328\u001b[0m forward_function, args_with_tangents \u001b[38;5;241m=\u001b[39m forward_backward\u001b[38;5;241m.\u001b[39mforward()\n",
      "File \u001b[1;32m~\\AppData\\Roaming\\Python\\Python311\\site-packages\\tensorflow\\python\\eager\\polymorphic_function\\atomic_function.py:216\u001b[0m, in \u001b[0;36mAtomicFunction.call_preflattened\u001b[1;34m(self, args)\u001b[0m\n\u001b[0;32m    214\u001b[0m \u001b[38;5;28;01mdef\u001b[39;00m \u001b[38;5;21mcall_preflattened\u001b[39m(\u001b[38;5;28mself\u001b[39m, args: Sequence[core\u001b[38;5;241m.\u001b[39mTensor]) \u001b[38;5;241m-\u001b[39m\u001b[38;5;241m>\u001b[39m Any:\n\u001b[0;32m    215\u001b[0m \u001b[38;5;250m  \u001b[39m\u001b[38;5;124;03m\"\"\"Calls with flattened tensor inputs and returns the structured output.\"\"\"\u001b[39;00m\n\u001b[1;32m--> 216\u001b[0m   flat_outputs \u001b[38;5;241m=\u001b[39m \u001b[38;5;28;43mself\u001b[39;49m\u001b[38;5;241;43m.\u001b[39;49m\u001b[43mcall_flat\u001b[49m\u001b[43m(\u001b[49m\u001b[38;5;241;43m*\u001b[39;49m\u001b[43margs\u001b[49m\u001b[43m)\u001b[49m\n\u001b[0;32m    217\u001b[0m   \u001b[38;5;28;01mreturn\u001b[39;00m \u001b[38;5;28mself\u001b[39m\u001b[38;5;241m.\u001b[39mfunction_type\u001b[38;5;241m.\u001b[39mpack_output(flat_outputs)\n",
      "File \u001b[1;32m~\\AppData\\Roaming\\Python\\Python311\\site-packages\\tensorflow\\python\\eager\\polymorphic_function\\atomic_function.py:251\u001b[0m, in \u001b[0;36mAtomicFunction.call_flat\u001b[1;34m(self, *args)\u001b[0m\n\u001b[0;32m    249\u001b[0m \u001b[38;5;28;01mwith\u001b[39;00m record\u001b[38;5;241m.\u001b[39mstop_recording():\n\u001b[0;32m    250\u001b[0m   \u001b[38;5;28;01mif\u001b[39;00m \u001b[38;5;28mself\u001b[39m\u001b[38;5;241m.\u001b[39m_bound_context\u001b[38;5;241m.\u001b[39mexecuting_eagerly():\n\u001b[1;32m--> 251\u001b[0m     outputs \u001b[38;5;241m=\u001b[39m \u001b[38;5;28;43mself\u001b[39;49m\u001b[38;5;241;43m.\u001b[39;49m\u001b[43m_bound_context\u001b[49m\u001b[38;5;241;43m.\u001b[39;49m\u001b[43mcall_function\u001b[49m\u001b[43m(\u001b[49m\n\u001b[0;32m    252\u001b[0m \u001b[43m        \u001b[49m\u001b[38;5;28;43mself\u001b[39;49m\u001b[38;5;241;43m.\u001b[39;49m\u001b[43mname\u001b[49m\u001b[43m,\u001b[49m\n\u001b[0;32m    253\u001b[0m \u001b[43m        \u001b[49m\u001b[38;5;28;43mlist\u001b[39;49m\u001b[43m(\u001b[49m\u001b[43margs\u001b[49m\u001b[43m)\u001b[49m\u001b[43m,\u001b[49m\n\u001b[0;32m    254\u001b[0m \u001b[43m        \u001b[49m\u001b[38;5;28;43mlen\u001b[39;49m\u001b[43m(\u001b[49m\u001b[38;5;28;43mself\u001b[39;49m\u001b[38;5;241;43m.\u001b[39;49m\u001b[43mfunction_type\u001b[49m\u001b[38;5;241;43m.\u001b[39;49m\u001b[43mflat_outputs\u001b[49m\u001b[43m)\u001b[49m\u001b[43m,\u001b[49m\n\u001b[0;32m    255\u001b[0m \u001b[43m    \u001b[49m\u001b[43m)\u001b[49m\n\u001b[0;32m    256\u001b[0m   \u001b[38;5;28;01melse\u001b[39;00m:\n\u001b[0;32m    257\u001b[0m     outputs \u001b[38;5;241m=\u001b[39m make_call_op_in_graph(\n\u001b[0;32m    258\u001b[0m         \u001b[38;5;28mself\u001b[39m,\n\u001b[0;32m    259\u001b[0m         \u001b[38;5;28mlist\u001b[39m(args),\n\u001b[0;32m    260\u001b[0m         \u001b[38;5;28mself\u001b[39m\u001b[38;5;241m.\u001b[39m_bound_context\u001b[38;5;241m.\u001b[39mfunction_call_options\u001b[38;5;241m.\u001b[39mas_attrs(),\n\u001b[0;32m    261\u001b[0m     )\n",
      "File \u001b[1;32m~\\AppData\\Roaming\\Python\\Python311\\site-packages\\tensorflow\\python\\eager\\context.py:1486\u001b[0m, in \u001b[0;36mContext.call_function\u001b[1;34m(self, name, tensor_inputs, num_outputs)\u001b[0m\n\u001b[0;32m   1484\u001b[0m cancellation_context \u001b[38;5;241m=\u001b[39m cancellation\u001b[38;5;241m.\u001b[39mcontext()\n\u001b[0;32m   1485\u001b[0m \u001b[38;5;28;01mif\u001b[39;00m cancellation_context \u001b[38;5;129;01mis\u001b[39;00m \u001b[38;5;28;01mNone\u001b[39;00m:\n\u001b[1;32m-> 1486\u001b[0m   outputs \u001b[38;5;241m=\u001b[39m \u001b[43mexecute\u001b[49m\u001b[38;5;241;43m.\u001b[39;49m\u001b[43mexecute\u001b[49m\u001b[43m(\u001b[49m\n\u001b[0;32m   1487\u001b[0m \u001b[43m      \u001b[49m\u001b[43mname\u001b[49m\u001b[38;5;241;43m.\u001b[39;49m\u001b[43mdecode\u001b[49m\u001b[43m(\u001b[49m\u001b[38;5;124;43m\"\u001b[39;49m\u001b[38;5;124;43mutf-8\u001b[39;49m\u001b[38;5;124;43m\"\u001b[39;49m\u001b[43m)\u001b[49m\u001b[43m,\u001b[49m\n\u001b[0;32m   1488\u001b[0m \u001b[43m      \u001b[49m\u001b[43mnum_outputs\u001b[49m\u001b[38;5;241;43m=\u001b[39;49m\u001b[43mnum_outputs\u001b[49m\u001b[43m,\u001b[49m\n\u001b[0;32m   1489\u001b[0m \u001b[43m      \u001b[49m\u001b[43minputs\u001b[49m\u001b[38;5;241;43m=\u001b[39;49m\u001b[43mtensor_inputs\u001b[49m\u001b[43m,\u001b[49m\n\u001b[0;32m   1490\u001b[0m \u001b[43m      \u001b[49m\u001b[43mattrs\u001b[49m\u001b[38;5;241;43m=\u001b[39;49m\u001b[43mattrs\u001b[49m\u001b[43m,\u001b[49m\n\u001b[0;32m   1491\u001b[0m \u001b[43m      \u001b[49m\u001b[43mctx\u001b[49m\u001b[38;5;241;43m=\u001b[39;49m\u001b[38;5;28;43mself\u001b[39;49m\u001b[43m,\u001b[49m\n\u001b[0;32m   1492\u001b[0m \u001b[43m  \u001b[49m\u001b[43m)\u001b[49m\n\u001b[0;32m   1493\u001b[0m \u001b[38;5;28;01melse\u001b[39;00m:\n\u001b[0;32m   1494\u001b[0m   outputs \u001b[38;5;241m=\u001b[39m execute\u001b[38;5;241m.\u001b[39mexecute_with_cancellation(\n\u001b[0;32m   1495\u001b[0m       name\u001b[38;5;241m.\u001b[39mdecode(\u001b[38;5;124m\"\u001b[39m\u001b[38;5;124mutf-8\u001b[39m\u001b[38;5;124m\"\u001b[39m),\n\u001b[0;32m   1496\u001b[0m       num_outputs\u001b[38;5;241m=\u001b[39mnum_outputs,\n\u001b[1;32m   (...)\u001b[0m\n\u001b[0;32m   1500\u001b[0m       cancellation_manager\u001b[38;5;241m=\u001b[39mcancellation_context,\n\u001b[0;32m   1501\u001b[0m   )\n",
      "File \u001b[1;32m~\\AppData\\Roaming\\Python\\Python311\\site-packages\\tensorflow\\python\\eager\\execute.py:53\u001b[0m, in \u001b[0;36mquick_execute\u001b[1;34m(op_name, num_outputs, inputs, attrs, ctx, name)\u001b[0m\n\u001b[0;32m     51\u001b[0m \u001b[38;5;28;01mtry\u001b[39;00m:\n\u001b[0;32m     52\u001b[0m   ctx\u001b[38;5;241m.\u001b[39mensure_initialized()\n\u001b[1;32m---> 53\u001b[0m   tensors \u001b[38;5;241m=\u001b[39m \u001b[43mpywrap_tfe\u001b[49m\u001b[38;5;241;43m.\u001b[39;49m\u001b[43mTFE_Py_Execute\u001b[49m\u001b[43m(\u001b[49m\u001b[43mctx\u001b[49m\u001b[38;5;241;43m.\u001b[39;49m\u001b[43m_handle\u001b[49m\u001b[43m,\u001b[49m\u001b[43m \u001b[49m\u001b[43mdevice_name\u001b[49m\u001b[43m,\u001b[49m\u001b[43m \u001b[49m\u001b[43mop_name\u001b[49m\u001b[43m,\u001b[49m\n\u001b[0;32m     54\u001b[0m \u001b[43m                                      \u001b[49m\u001b[43minputs\u001b[49m\u001b[43m,\u001b[49m\u001b[43m \u001b[49m\u001b[43mattrs\u001b[49m\u001b[43m,\u001b[49m\u001b[43m \u001b[49m\u001b[43mnum_outputs\u001b[49m\u001b[43m)\u001b[49m\n\u001b[0;32m     55\u001b[0m \u001b[38;5;28;01mexcept\u001b[39;00m core\u001b[38;5;241m.\u001b[39m_NotOkStatusException \u001b[38;5;28;01mas\u001b[39;00m e:\n\u001b[0;32m     56\u001b[0m   \u001b[38;5;28;01mif\u001b[39;00m name \u001b[38;5;129;01mis\u001b[39;00m \u001b[38;5;129;01mnot\u001b[39;00m \u001b[38;5;28;01mNone\u001b[39;00m:\n",
      "\u001b[1;31mKeyboardInterrupt\u001b[0m: "
     ]
    }
   ],
   "source": [
    "model.fit(train,\n",
    "  epochs = epochs,\n",
    "  validation_data = test,\n",
    "  callbacks= [\n",
    "    callbacks.EarlyStopping(\n",
    "      monitor = 'val_loss',\n",
    "      patience = patience,\n",
    "      verbose = 1\n",
    "    ),\n",
    "    callbacks.ModelCheckpoint(\n",
    "      filepath = model_path,\n",
    "      save_weights_only = False,\n",
    "      monitor = 'loss',\n",
    "      mode = 'min',\n",
    "      save_best_only = True\n",
    "    ),\n",
    "    callbacks.LearningRateScheduler(\n",
    "      lambda epoch, lr: 1e-3 * 10 ** -(epoch / 64)\n",
    "    )\n",
    "  ]\n",
    ")"
   ]
  }
 ],
 "metadata": {
  "kernelspec": {
   "display_name": "Python 3",
   "language": "python",
   "name": "python3"
  },
  "language_info": {
   "codemirror_mode": {
    "name": "ipython",
    "version": 3
   },
   "file_extension": ".py",
   "mimetype": "text/x-python",
   "name": "python",
   "nbconvert_exporter": "python",
   "pygments_lexer": "ipython3",
   "version": "3.11.4"
  }
 },
 "nbformat": 4,
 "nbformat_minor": 2
}
